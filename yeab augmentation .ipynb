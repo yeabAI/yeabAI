{
 "cells": [
  {
   "cell_type": "code",
   "execution_count": 61,
   "id": "808e5678",
   "metadata": {},
   "outputs": [],
   "source": [
    "from tensorflow.keras.preprocessing.image import ImageDataGenerator\n",
    "from matplotlib.pyplot import imread, imshow, subplots, show\n",
    "import numpy as np\n",
    "import os\n",
    "from PIL import Image\n",
    "from skimage import io"
   ]
  },
  {
   "cell_type": "code",
   "execution_count": 62,
   "id": "7e8ca0ac",
   "metadata": {},
   "outputs": [],
   "source": [
    "datagen = ImageDataGenerator(        \n",
    "            rotation_range=45,\n",
    "            width_shift_range=0.2,  \n",
    "            height_shift_range=0.2,    \n",
    "            shear_range=0.2,        \n",
    "            zoom_range=0.2,        \n",
    "            horizontal_flip=True,         \n",
    "            fill_mode='reflect')"
   ]
  },
  {
   "cell_type": "code",
   "execution_count": 63,
   "id": "140bf6df",
   "metadata": {},
   "outputs": [],
   "source": [
    "image_directory = 'arohidata/sillipery/'\n",
    "SIZE = 256\n",
    "dataset = []"
   ]
  },
  {
   "cell_type": "code",
   "execution_count": 76,
   "id": "99685a16",
   "metadata": {},
   "outputs": [],
   "source": [
    "my_images = os.listdir(image_directory)\n",
    "for i, image_name in enumerate(my_images):    \n",
    "   if (image_name.split('.')[1] == 'JPG'):        \n",
    "       image = io.imread(image_directory + image_name)        \n",
    "       image = Image.fromarray(image, 'RGB')        \n",
    "       image = image.resize((SIZE,SIZE)) \n",
    "       dataset.append(np.array(image))"
   ]
  },
  {
   "cell_type": "code",
   "execution_count": 77,
   "id": "beddf338",
   "metadata": {},
   "outputs": [],
   "source": [
    "x = np.array(dataset)\n",
    "i = 0\n",
    "for batch in datagen.flow(x, batch_size=200,\n",
    "                          save_to_dir='silipary_train augemented',\n",
    "                          save_prefix='aug',\n",
    "                          save_format='png'):\n",
    "    i+=1\n",
    "    if i > 5: #Epochs\n",
    "        break"
   ]
  },
  {
   "cell_type": "code",
   "execution_count": null,
   "id": "5062a3fe",
   "metadata": {},
   "outputs": [],
   "source": []
  }
 ],
 "metadata": {
  "kernelspec": {
   "display_name": "Python 3 (ipykernel)",
   "language": "python",
   "name": "python3"
  },
  "language_info": {
   "codemirror_mode": {
    "name": "ipython",
    "version": 3
   },
   "file_extension": ".py",
   "mimetype": "text/x-python",
   "name": "python",
   "nbconvert_exporter": "python",
   "pygments_lexer": "ipython3",
   "version": "3.9.13"
  }
 },
 "nbformat": 4,
 "nbformat_minor": 5
}
